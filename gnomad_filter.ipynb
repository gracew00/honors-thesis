{
 "cells": [
  {
   "cell_type": "code",
   "execution_count": 1,
   "id": "56f0fbd4-b822-454f-ab60-4992e4e59c15",
   "metadata": {},
   "outputs": [
    {
     "name": "stdout",
     "output_type": "stream",
     "text": [
      "Defaulting to user installation because normal site-packages is not writeable\n",
      "Requirement already satisfied: vcfpy in /home/ubuntu/.local/lib/python3.10/site-packages (0.13.8)\n",
      "Requirement already satisfied: pysam>=0.10.0 in /home/ubuntu/.local/lib/python3.10/site-packages (from vcfpy) (0.22.1)\n",
      "Note: you may need to restart the kernel to use updated packages.\n"
     ]
    }
   ],
   "source": [
    "pip install vcfpy "
   ]
  },
  {
   "cell_type": "code",
   "execution_count": null,
   "id": "8116f201-1f05-4994-b0cf-6cb83ccee6f8",
   "metadata": {},
   "outputs": [
    {
     "name": "stdout",
     "output_type": "stream",
     "text": [
      "['/home/ubuntu/honors_research/vcf_files/28815_output.g.vcf.gz', '/home/ubuntu/honors_research/vcf_files/28814_output.g.vcf.gz', '/home/ubuntu/honors_research/vcf_files/28818_output.g.vcf.gz', '/home/ubuntu/honors_research/vcf_files/28817_output.g.vcf.gz', '/home/ubuntu/honors_research/vcf_files/28812_output.g.vcf.gz', '/home/ubuntu/honors_research/vcf_files/28813_output.g.vcf.gz', '/home/ubuntu/honors_research/vcf_files/28816_output.g.vcf.gz']\n"
     ]
    },
    {
     "name": "stderr",
     "output_type": "stream",
     "text": [
      "[W::hts_idx_load3] The index file is older than the data file: /home/ubuntu/honors_research/vcf_files/28815_output.g.vcf.gz.tbi\n",
      "[W::hts_idx_load3] The index file is older than the data file: /home/ubuntu/honors_research/vcf_files/28814_output.g.vcf.gz.tbi\n",
      "[W::hts_idx_load3] The index file is older than the data file: /home/ubuntu/honors_research/vcf_files/28812_output.g.vcf.gz.tbi\n",
      "[W::hts_idx_load3] The index file is older than the data file: /home/ubuntu/honors_research/vcf_files/28813_output.g.vcf.gz.tbi\n",
      "[W::hts_idx_load3] The index file is older than the data file: /home/ubuntu/honors_research/vcf_files/28816_output.g.vcf.gz.tbi\n"
     ]
    },
    {
     "name": "stdout",
     "output_type": "stream",
     "text": [
      "242589length of union variants\n"
     ]
    }
   ],
   "source": [
    "#pip install vcfpy jupyter server list\n",
    "\n",
    "#look at exomes first (not genomes)\n",
    "import pysam\n",
    "import os\n",
    "\n",
    "def get_vcf_files_from_folder(folder_path):\n",
    "    \"Returns a list of all .vcf files in the given folder\"\n",
    "    vcf_files = [os.path.join(folder_path, file) for file in os.listdir(folder_path) if file.endswith('.vcf.gz')]\n",
    "    print(vcf_files)\n",
    "    return vcf_files\n",
    "\n",
    "def union_variants(vcf_files):\n",
    "    variant_set = set()\n",
    "    for vcf_file in vcf_files:\n",
    "        vcf = pysam.VariantFile(vcf_file)\n",
    "        for record in vcf:\n",
    "            variant = f\"{record.chrom}:{record.pos}:{record.ref}>{','.join(record.alts)}\"\n",
    "            variant_set.add(variant)\n",
    "    return variant_set\n",
    "\n",
    "def load_gnomad_vcf(gnomad_vcf):\n",
    "    gnomad_set = set()\n",
    "    vcf_gnomad = pysam.VariantFile(gnomad_vcf)\n",
    "    for record in vcf_gnomad:\n",
    "        gnomad_variant = f\"{record.chrom}:{record.pos}:{record.ref}>{','.join(record.alts)}\"\n",
    "        gnomad_set.add(gnomad_variant)\n",
    "\n",
    "    return gnomad_set\n",
    "\n",
    "def filter_variants(union_variants, gnomad_variants, chrn):\n",
    "    \"\"\"Filter variants to find those that are on the same chromosome as gnomAD\n",
    "    and do not appear in gnomAD.\"\"\"\n",
    "    #chrom_variants = {var for var in union_variants if var[0] == chr}\n",
    "    chrom_variants = []\n",
    "    unique_variants = []\n",
    "    for var in union_variants:\n",
    "        chr_index_start = var.find(\"chr\")\n",
    "        chr_index_end = var[chr_index_start:].find(\":\")\n",
    "        chr_number = var[chr_index_start:chr_index_end]\n",
    "        if chr_number == chrn:\n",
    "            chrom_variants.append(var)\n",
    "    #print(str(len(chrom_variants)) + \"number of sample variants on chromosome\")\n",
    "    #print(type(chrom_variants))\n",
    "    accum = 0\n",
    "    for var in chrom_variants:\n",
    "        if var not in gnomad_variants:\n",
    "            #print(var)\n",
    "            accum +=1\n",
    "            unique_variants.append(var)\n",
    "    #print(str(accum) + \"accum variable\")\n",
    "    \n",
    "\n",
    "    return unique_variants\n",
    "\n",
    "def export_variants_to_bed(variants, output_file):\n",
    "    \"\"\"\n",
    "    Exports a list of variant strings to a BED file.\n",
    "\n",
    "    Parameters:\n",
    "    variants (list of str): List of variants, each formatted as 'chr:start:end'.\n",
    "    output_file (str): Path to the output BED file.\n",
    "\n",
    "    Example of variant format: 'chr1:11111:1111112'\n",
    "    \"\"\"\n",
    "    with open(output_file, 'w') as bed_file:\n",
    "        for variant in variants:\n",
    "            # Split the string into chromosome, start, and end positions\n",
    "            \n",
    "            chr_name, pos, mutation = variant.split(':')\n",
    "            ref, alt = mutation.split(\">\")\n",
    "            pos_start = int(pos) -1\n",
    "\n",
    "            # Filter out insertions and deletions (ref and alt lengths must be equal)\n",
    "            if (len(ref) > 1) or  (len(alt) > 1):\n",
    "                continue\n",
    "\n",
    "            pos_start = int(pos) - 1\n",
    "            pos_end = int(pos) + len(ref) - 1\n",
    "            \n",
    "            \n",
    "            \n",
    "            # Write to BED file (converting start and end to integers if needed)\n",
    "            print(variant)\n",
    "            bed_file.write(f\"{chr_name}\\t{pos_start}\\t{pos_end}\\n\")\n",
    "\n",
    "    print(f\"Variants successfully exported to {output_file}\")\n",
    "\n",
    "\n",
    "\n",
    "\n",
    "\n",
    "def main(vcf_files, gnomad_file):\n",
    "\n",
    "    union_vars = union_variants(vcf_files)\n",
    "    print(str(len(union_vars)) + \"length of union variants\")\n",
    "\n",
    "    \n",
    "    # Load gnomAD variants\n",
    "    gnomad_variants = load_gnomad_vcf(gnomad_file)\n",
    "    print(str(len(gnomad_variants)) + \"length of gnomad\")\n",
    "    \n",
    "    # Filter variants\n",
    "    # gnomad_string = str(gnomad_file)\n",
    "    # chr_index_start = gnomad_string.find(\"chr\")\n",
    "    # chr_index_end = gnomad_string[chr_index_start:].find(\".\")\n",
    "    chr_number = \"chr1\"\n",
    "    print(chr_number + \"chr number\")\n",
    "    filtered_variants = filter_variants(union_vars, gnomad_variants, chr_number)\n",
    "\n",
    "    # Write filtered unique variants to a VCF file\n",
    "    output_filename = 'unique_variants_chr1.bed'\n",
    "    export_variants_to_bed(filtered_variants, output_filename)\n",
    "    print(\"Unique Variants File Done\")\n",
    "\n",
    "\n",
    "\n",
    "\n",
    "folder_path = '/home/ubuntu/honors_research/vcf_files'\n",
    "vcf_files = get_vcf_files_from_folder(folder_path)\n",
    "gnomad_file = '/home/ubuntu/honors_research/gnomAD_files/gnomad.exomes.v4.1.sites.chr1.vcf.bgz'\n",
    "all_unique_variants = main(vcf_files, gnomad_file)\n"
   ]
  }
 ],
 "metadata": {
  "kernelspec": {
   "display_name": "Python 3",
   "language": "python",
   "name": "python3"
  },
  "language_info": {
   "codemirror_mode": {
    "name": "ipython",
    "version": 3
   },
   "file_extension": ".py",
   "mimetype": "text/x-python",
   "name": "python",
   "nbconvert_exporter": "python",
   "pygments_lexer": "ipython3",
   "version": "3.10.12"
  }
 },
 "nbformat": 4,
 "nbformat_minor": 5
}
