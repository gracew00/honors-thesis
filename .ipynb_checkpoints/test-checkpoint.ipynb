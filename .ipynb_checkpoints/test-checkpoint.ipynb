{
 "cells": [
  {
   "cell_type": "code",
   "execution_count": 1,
   "id": "56f0fbd4-b822-454f-ab60-4992e4e59c15",
   "metadata": {},
   "outputs": [
    {
     "name": "stdout",
     "output_type": "stream",
     "text": [
      "Defaulting to user installation because normal site-packages is not writeable\n",
      "Requirement already satisfied: vcfpy in /home/ubuntu/.local/lib/python3.10/site-packages (0.13.8)\n",
      "Requirement already satisfied: pysam>=0.10.0 in /home/ubuntu/.local/lib/python3.10/site-packages (from vcfpy) (0.22.1)\n",
      "Note: you may need to restart the kernel to use updated packages.\n"
     ]
    }
   ],
   "source": [
    "pip install vcfpy "
   ]
  },
  {
   "cell_type": "code",
   "execution_count": 1,
   "id": "8116f201-1f05-4994-b0cf-6cb83ccee6f8",
   "metadata": {},
   "outputs": [
    {
     "name": "stdout",
     "output_type": "stream",
     "text": [
      "['/home/ubuntu/honors_research/vcf_files/28815_output.g.vcf.gz', '/home/ubuntu/honors_research/vcf_files/28814_output.g.vcf.gz', '/home/ubuntu/honors_research/vcf_files/28818_output.g.vcf.gz', '/home/ubuntu/honors_research/vcf_files/28817_output.g.vcf.gz', '/home/ubuntu/honors_research/vcf_files/28812_output.g.vcf.gz', '/home/ubuntu/honors_research/vcf_files/28813_output.g.vcf.gz', '/home/ubuntu/honors_research/vcf_files/28816_output.g.vcf.gz']\n"
     ]
    },
    {
     "name": "stderr",
     "output_type": "stream",
     "text": [
      "[W::hts_idx_load3] The index file is older than the data file: /home/ubuntu/honors_research/vcf_files/28815_output.g.vcf.gz.tbi\n",
      "[W::hts_idx_load3] The index file is older than the data file: /home/ubuntu/honors_research/vcf_files/28814_output.g.vcf.gz.tbi\n",
      "[W::hts_idx_load3] The index file is older than the data file: /home/ubuntu/honors_research/vcf_files/28812_output.g.vcf.gz.tbi\n",
      "[W::hts_idx_load3] The index file is older than the data file: /home/ubuntu/honors_research/vcf_files/28813_output.g.vcf.gz.tbi\n",
      "[W::hts_idx_load3] The index file is older than the data file: /home/ubuntu/honors_research/vcf_files/28816_output.g.vcf.gz.tbi\n"
     ]
    },
    {
     "name": "stdout",
     "output_type": "stream",
     "text": [
      "242589length of union variants\n"
     ]
    },
    {
     "name": "stderr",
     "output_type": "stream",
     "text": [
      "[E::hts_open_format] Failed to open file \"/home/ubuntu/honors_research/gnomaAD_files/gnomad.exomes.v4.1.sites.chr4.vcf.bgz\" : No such file or directory\n"
     ]
    },
    {
     "ename": "FileNotFoundError",
     "evalue": "[Errno 2] could not open variant file `b'/home/ubuntu/honors_research/gnomaAD_files/gnomad.exomes.v4.1.sites.chr4.vcf.bgz'`: No such file or directory",
     "output_type": "error",
     "traceback": [
      "\u001b[0;31m---------------------------------------------------------------------------\u001b[0m",
      "\u001b[0;31mFileNotFoundError\u001b[0m                         Traceback (most recent call last)",
      "Cell \u001b[0;32mIn[1], line 118\u001b[0m\n\u001b[1;32m    116\u001b[0m vcf_files \u001b[38;5;241m=\u001b[39m get_vcf_files_from_folder(folder_path)\n\u001b[1;32m    117\u001b[0m gnomad_file \u001b[38;5;241m=\u001b[39m \u001b[38;5;124m'\u001b[39m\u001b[38;5;124m/home/ubuntu/honors_research/gnomaAD_files/gnomad.exomes.v4.1.sites.chr4.vcf.bgz\u001b[39m\u001b[38;5;124m'\u001b[39m\n\u001b[0;32m--> 118\u001b[0m all_unique_variants \u001b[38;5;241m=\u001b[39m \u001b[43mmain\u001b[49m\u001b[43m(\u001b[49m\u001b[43mvcf_files\u001b[49m\u001b[43m,\u001b[49m\u001b[43m \u001b[49m\u001b[43mgnomad_file\u001b[49m\u001b[43m)\u001b[49m\n",
      "Cell \u001b[0;32mIn[1], line 96\u001b[0m, in \u001b[0;36mmain\u001b[0;34m(vcf_files, gnomad_file)\u001b[0m\n\u001b[1;32m     92\u001b[0m \u001b[38;5;28mprint\u001b[39m(\u001b[38;5;28mstr\u001b[39m(\u001b[38;5;28mlen\u001b[39m(union_vars)) \u001b[38;5;241m+\u001b[39m \u001b[38;5;124m\"\u001b[39m\u001b[38;5;124mlength of union variants\u001b[39m\u001b[38;5;124m\"\u001b[39m)\n\u001b[1;32m     95\u001b[0m \u001b[38;5;66;03m# Load gnomAD variants\u001b[39;00m\n\u001b[0;32m---> 96\u001b[0m gnomad_variants \u001b[38;5;241m=\u001b[39m \u001b[43mload_gnomad_vcf\u001b[49m\u001b[43m(\u001b[49m\u001b[43mgnomad_file\u001b[49m\u001b[43m)\u001b[49m\n\u001b[1;32m     97\u001b[0m \u001b[38;5;28mprint\u001b[39m(\u001b[38;5;28mstr\u001b[39m(\u001b[38;5;28mlen\u001b[39m(gnomad_variants)) \u001b[38;5;241m+\u001b[39m \u001b[38;5;124m\"\u001b[39m\u001b[38;5;124mlength of gnomad\u001b[39m\u001b[38;5;124m\"\u001b[39m)\n\u001b[1;32m     99\u001b[0m \u001b[38;5;66;03m# Filter variants\u001b[39;00m\n\u001b[1;32m    100\u001b[0m \u001b[38;5;66;03m# gnomad_string = str(gnomad_file)\u001b[39;00m\n\u001b[1;32m    101\u001b[0m \u001b[38;5;66;03m# chr_index_start = gnomad_string.find(\"chr\")\u001b[39;00m\n\u001b[1;32m    102\u001b[0m \u001b[38;5;66;03m# chr_index_end = gnomad_string[chr_index_start:].find(\".\")\u001b[39;00m\n",
      "Cell \u001b[0;32mIn[1], line 24\u001b[0m, in \u001b[0;36mload_gnomad_vcf\u001b[0;34m(gnomad_vcf)\u001b[0m\n\u001b[1;32m     22\u001b[0m \u001b[38;5;28;01mdef\u001b[39;00m \u001b[38;5;21mload_gnomad_vcf\u001b[39m(gnomad_vcf):\n\u001b[1;32m     23\u001b[0m     gnomad_set \u001b[38;5;241m=\u001b[39m \u001b[38;5;28mset\u001b[39m()\n\u001b[0;32m---> 24\u001b[0m     vcf_gnomad \u001b[38;5;241m=\u001b[39m \u001b[43mpysam\u001b[49m\u001b[38;5;241;43m.\u001b[39;49m\u001b[43mVariantFile\u001b[49m\u001b[43m(\u001b[49m\u001b[43mgnomad_vcf\u001b[49m\u001b[43m)\u001b[49m\n\u001b[1;32m     25\u001b[0m     \u001b[38;5;28;01mfor\u001b[39;00m record \u001b[38;5;129;01min\u001b[39;00m vcf_gnomad:\n\u001b[1;32m     26\u001b[0m         gnomad_variant \u001b[38;5;241m=\u001b[39m \u001b[38;5;124mf\u001b[39m\u001b[38;5;124m\"\u001b[39m\u001b[38;5;132;01m{\u001b[39;00mrecord\u001b[38;5;241m.\u001b[39mchrom\u001b[38;5;132;01m}\u001b[39;00m\u001b[38;5;124m:\u001b[39m\u001b[38;5;132;01m{\u001b[39;00mrecord\u001b[38;5;241m.\u001b[39mpos\u001b[38;5;132;01m}\u001b[39;00m\u001b[38;5;124m:\u001b[39m\u001b[38;5;132;01m{\u001b[39;00mrecord\u001b[38;5;241m.\u001b[39mref\u001b[38;5;132;01m}\u001b[39;00m\u001b[38;5;124m>\u001b[39m\u001b[38;5;132;01m{\u001b[39;00m\u001b[38;5;124m'\u001b[39m\u001b[38;5;124m,\u001b[39m\u001b[38;5;124m'\u001b[39m\u001b[38;5;241m.\u001b[39mjoin(record\u001b[38;5;241m.\u001b[39malts)\u001b[38;5;132;01m}\u001b[39;00m\u001b[38;5;124m\"\u001b[39m\n",
      "File \u001b[0;32m~/.local/lib/python3.10/site-packages/pysam/libcbcf.pyx:4117\u001b[0m, in \u001b[0;36mpysam.libcbcf.VariantFile.__init__\u001b[0;34m()\u001b[0m\n",
      "File \u001b[0;32m~/.local/lib/python3.10/site-packages/pysam/libcbcf.pyx:4342\u001b[0m, in \u001b[0;36mpysam.libcbcf.VariantFile.open\u001b[0;34m()\u001b[0m\n",
      "\u001b[0;31mFileNotFoundError\u001b[0m: [Errno 2] could not open variant file `b'/home/ubuntu/honors_research/gnomaAD_files/gnomad.exomes.v4.1.sites.chr4.vcf.bgz'`: No such file or directory"
     ]
    }
   ],
   "source": [
    "#pip install vcfpy jupyter server list\n",
    "\n",
    "#look at exomes first (not genomes)\n",
    "import pysam\n",
    "import os\n",
    "\n",
    "def get_vcf_files_from_folder(folder_path):\n",
    "    \"Returns a list of all .vcf files in the given folder\"\n",
    "    vcf_files = [os.path.join(folder_path, file) for file in os.listdir(folder_path) if file.endswith('.vcf.gz')]\n",
    "    print(vcf_files)\n",
    "    return vcf_files\n",
    "\n",
    "def union_variants(vcf_files):\n",
    "    variant_set = set()\n",
    "    for vcf_file in vcf_files:\n",
    "        vcf = pysam.VariantFile(vcf_file)\n",
    "        for record in vcf:\n",
    "            variant = f\"{record.chrom}:{record.pos}:{record.ref}>{','.join(record.alts)}\"\n",
    "            variant_set.add(variant)\n",
    "    return variant_set\n",
    "\n",
    "def load_gnomad_vcf(gnomad_vcf):\n",
    "    gnomad_set = set()\n",
    "    vcf_gnomad = pysam.VariantFile(gnomad_vcf)\n",
    "    for record in vcf_gnomad:\n",
    "        gnomad_variant = f\"{record.chrom}:{record.pos}:{record.ref}>{','.join(record.alts)}\"\n",
    "        gnomad_set.add(gnomad_variant)\n",
    "\n",
    "    return gnomad_set\n",
    "\n",
    "def filter_variants(union_variants, gnomad_variants, chrn):\n",
    "    \"\"\"Filter variants to find those that are on the same chromosome as gnomAD\n",
    "    and do not appear in gnomAD.\"\"\"\n",
    "    #chrom_variants = {var for var in union_variants if var[0] == chr}\n",
    "    chrom_variants = []\n",
    "    unique_variants = []\n",
    "    for var in union_variants:\n",
    "        chr_index_start = var.find(\"chr\")\n",
    "        chr_index_end = var[chr_index_start:].find(\":\")\n",
    "        chr_number = var[chr_index_start:chr_index_end]\n",
    "        if chr_number == chrn:\n",
    "            chrom_variants.append(var)\n",
    "    print(str(len(chrom_variants)) + \"number of sample variants on chromosome\")\n",
    "    print(type(chrom_variants))\n",
    "    accum = 0\n",
    "    for var in chrom_variants:\n",
    "        if var not in gnomad_variants:\n",
    "            print(var)\n",
    "            accum +=1\n",
    "            unique_variants.append(var)\n",
    "    print(str(accum) + \"accum variable\")\n",
    "    \n",
    "\n",
    "    return unique_variants\n",
    "\n",
    "def export_variants_to_bed(variants, output_file):\n",
    "    \"\"\"\n",
    "    Exports a list of variant strings to a BED file.\n",
    "\n",
    "    Parameters:\n",
    "    variants (list of str): List of variants, each formatted as 'chr:start:end'.\n",
    "    output_file (str): Path to the output BED file.\n",
    "\n",
    "    Example of variant format: 'chr1:11111:1111112'\n",
    "    \"\"\"\n",
    "    with open(output_file, 'w') as bed_file:\n",
    "        for variant in variants:\n",
    "            # Split the string into chromosome, start, and end positions\n",
    "            \n",
    "            chr_name, pos, mutation = variant.split(':')\n",
    "            ref, alt = mutation.split(\">\")\n",
    "            pos_start = int(pos) -1\n",
    "\n",
    "            if len(alt)>len(ref): #insertion\n",
    "                pos_end = int(pos)+len(alt) -1\n",
    "            else: #substitution or deletion\n",
    "                pos_end = int(pos) + len(ref) -1\n",
    "            \n",
    "            \n",
    "            # Write to BED file (converting start and end to integers if needed)\n",
    "            bed_file.write(f\"{chr_name}\\t{pos_start}\\t{pos_end}\\n\")\n",
    "\n",
    "    print(f\"Variants successfully exported to {output_file}\")\n",
    "\n",
    "\n",
    "\n",
    "\n",
    "\n",
    "def main(vcf_files, gnomad_file):\n",
    "\n",
    "    union_vars = union_variants(vcf_files)\n",
    "    print(str(len(union_vars)) + \"length of union variants\")\n",
    "\n",
    "    \n",
    "    # Load gnomAD variants\n",
    "    gnomad_variants = load_gnomad_vcf(gnomad_file)\n",
    "    print(str(len(gnomad_variants)) + \"length of gnomad\")\n",
    "    \n",
    "    # Filter variants\n",
    "    # gnomad_string = str(gnomad_file)\n",
    "    # chr_index_start = gnomad_string.find(\"chr\")\n",
    "    # chr_index_end = gnomad_string[chr_index_start:].find(\".\")\n",
    "    chr_number = \"chr4\"\n",
    "    print(chr_number + \"chr number\")\n",
    "    filtered_variants = filter_variants(union_vars, gnomad_variants, chr_number)\n",
    "\n",
    "    # Write filtered unique variants to a VCF file\n",
    "    output_filename = 'unique_variants_chr4.bed'\n",
    "    export_variants_to_bed(filtered_variants, output_filename)\n",
    "    print(\"Unique Variants File Done\")\n",
    "\n",
    "\n",
    "\n",
    "\n",
    "folder_path = '/home/ubuntu/honors_research/vcf_files'\n",
    "vcf_files = get_vcf_files_from_folder(folder_path)\n",
    "gnomad_file = '/home/ubuntu/honors_research/gnomAD_files/gnomad.exomes.v4.1.sites.chr4.vcf.bgz'\n",
    "all_unique_variants = main(vcf_files, gnomad_file)\n",
    "\n"
   ]
  },
  {
   "cell_type": "code",
   "execution_count": null,
   "id": "a60a04c6-2c98-4f79-bc86-742161ad0f99",
   "metadata": {},
   "outputs": [],
   "source": []
  }
 ],
 "metadata": {
  "kernelspec": {
   "display_name": "Python 3 (ipykernel)",
   "language": "python",
   "name": "python3"
  },
  "language_info": {
   "codemirror_mode": {
    "name": "ipython",
    "version": 3
   },
   "file_extension": ".py",
   "mimetype": "text/x-python",
   "name": "python",
   "nbconvert_exporter": "python",
   "pygments_lexer": "ipython3",
   "version": "3.10.12"
  }
 },
 "nbformat": 4,
 "nbformat_minor": 5
}
