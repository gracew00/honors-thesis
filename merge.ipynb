{
 "cells": [
  {
   "cell_type": "code",
   "execution_count": 1,
   "id": "e403b686-5606-432e-b5db-26592649aa1d",
   "metadata": {},
   "outputs": [],
   "source": [
    "import pandas as pd"
   ]
  },
  {
   "cell_type": "code",
   "execution_count": 2,
   "id": "6fbfdc1f-80dd-4ec6-9946-1a185ce38545",
   "metadata": {},
   "outputs": [
    {
     "name": "stdout",
     "output_type": "stream",
     "text": [
      "Merged BED file saved to merged_unique_variants.bed\n"
     ]
    }
   ],
   "source": [
    "# Define the paths to your BED files\n",
    "bed_files = [\"unique_variants_chr1.bed\", \"unique_variants_chr2.bed\", \"unique_variants_chr3.bed\", \"unique_variants_chr4.bed\", \n",
    "             \"unique_variants_chr5.bed\", \"unique_variants_chr6.bed\", \"unique_variants_chr7.bed\", \"unique_variants_chr8.bed\",\n",
    "             \"unique_variants_chr9.bed\", \"unique_variants_chr10.bed\", \"unique_variants_chr11.bed\", \"unique_variants_chr12.bed\",\n",
    "             \"unique_variants_chr13.bed\", \"unique_variants_chr14.bed\", \"unique_variants_chr15.bed\", \"unique_variants_chr16.bed\",\n",
    "             \"unique_variants_chr17.bed\", \"unique_variants_chr18.bed\", \"unique_variants_chr19.bed\", \"unique_variants_chr20.bed\",\n",
    "             \"unique_variants_chr21.bed\", \"unique_variants_chr22.bed\", \"unique_variants_chrX.bed\", \"unique_variants_chrY.bed\"]\n",
    "\n",
    "output_file = \"merged_unique_variants.bed\"\n",
    "\n",
    "# Read each BED file into a pandas DataFrame and store them in a list\n",
    "dataframes = [pd.read_csv(f, sep=\"\\t\", header=None) for f in bed_files]\n",
    "\n",
    "# Combine all DataFrames into one\n",
    "merged_df = pd.concat(dataframes)\n",
    "\n",
    "# Sort the merged DataFrame by chromosome and start position\n",
    "merged_df.sort_values(by=[0, 1], inplace=True)\n",
    "\n",
    "# Remove duplicate rows\n",
    "#merged_df.drop_duplicates(inplace=True)\n",
    "\n",
    "# Write the merged DataFrame to a new BED file\n",
    "merged_df.to_csv(output_file, sep=\"\\t\", header=False, index=False)\n",
    "\n",
    "print(f\"Merged BED file saved to {output_file}\")"
   ]
  }
 ],
 "metadata": {
  "kernelspec": {
   "display_name": "Python 3",
   "language": "python",
   "name": "python3"
  },
  "language_info": {
   "codemirror_mode": {
    "name": "ipython",
    "version": 3
   },
   "file_extension": ".py",
   "mimetype": "text/x-python",
   "name": "python",
   "nbconvert_exporter": "python",
   "pygments_lexer": "ipython3",
   "version": "3.10.12"
  }
 },
 "nbformat": 4,
 "nbformat_minor": 5
}
